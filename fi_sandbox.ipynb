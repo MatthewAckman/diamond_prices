{
 "cells": [
  {
   "cell_type": "markdown",
   "metadata": {},
   "source": [
    "# Fitted imputation of missing values\n",
    "\n",
    "When working with microdata, particularly at the consumer or firm level, instances of missing values are highly common. This phenomena can be particularly troublesome when trying to construct a balanced panel of entities and require a full-rank feature vector for modelling, since any missing values in any feature will exclude the entity from the panel. This results in unnecessarily decreased sample size.\n",
    "\n"
   ]
  },
  {
   "cell_type": "code",
   "execution_count": 17,
   "metadata": {},
   "outputs": [],
   "source": [
    "import pandas as pd\n",
    "import numpy as np\n",
    "import seaborn as sns  # used for toy datasets\n",
    "\n",
    "from sklearn.linear_model import LinearRegression\n",
    "from sklearn.model_selection import KFold, train_test_split\n",
    "\n",
    "## load main dataset\n",
    "df = sns.load_dataset('diamonds')\n",
    "df.price = df.price.apply(np.log)\n",
    "\n",
    "'''\n",
    "TODO:\n",
    "    - Contaminate y var and fill with linear model from carat alone  --> cross-validate\n",
    "    - ^^ fit intercept --> cross-validate\n",
    "    - random forest regressor --> cross-validate\n",
    "    - compare best model to actual prices\n",
    "'''\n",
    "\n",
    "def contaminate(vector, share=0.1):\n",
    "    '''contaminate one vector at a time with X% NaNs'''\n",
    "    cont = np.full(len(vector), False)\n",
    "    cont[:int(share * len(vector))] = True\n",
    "    np.random.shuffle(cont)\n",
    "\n",
    "    removed_values = vector.loc[cont] \n",
    "    vector.loc[cont] = np.nan\n",
    "\n",
    "    return vector, removed_values\n",
    "\n",
    "\n",
    "df.price, removed_prices = contaminate(df.price)  # contaminate endog var, simulate por data quality\n",
    "\n",
    "df_orig = df  # copy contaminated df for validation later\n",
    "\n",
    "df = df.loc[~df.price.isna()]  # subset data to valid obs"
   ]
  },
  {
   "cell_type": "code",
   "execution_count": 18,
   "metadata": {},
   "outputs": [
    {
     "data": {
      "text/plain": [
       "price    10.23071\n",
       "dtype: float64"
      ]
     },
     "execution_count": 18,
     "metadata": {},
     "output_type": "execute_result"
    }
   ],
   "source": [
    "## Basic regression: ln(price) ~ b1*carat + e\n",
    "\n",
    "y = df.price\n",
    "X = df.carat\n",
    "\n",
    "model = LinearRegression(fit_intercept=False)\n",
    "kf = KFold(n_splits=5, shuffle=True, random_state=1996)\n",
    "\n",
    "## score model via cross-validation  (tr = train, tt = test)\n",
    "\n",
    "sse, nobs  = 0.0, 0  # initialize sum squared errors and nobs\n",
    "\n",
    "for tr, tt in kf.split(df):\n",
    "    Xtr = df.iloc[tr][['carat']]\n",
    "    ytr = df.iloc[tr][['price']]\n",
    "    Xtt = df.iloc[tt][['carat']]\n",
    "    ytt = df.iloc[tt][['price']]\n",
    "\n",
    "    model.fit(Xtr, ytr)\n",
    "\n",
    "    sse += ((model.predict(Xtt) - ytt)**2).sum()\n",
    "    nobs += len(tt)\n",
    "\n",
    "mse = sse / nobs\n",
    "mse"
   ]
  },
  {
   "cell_type": "code",
   "execution_count": 19,
   "metadata": {},
   "outputs": [
    {
     "data": {
      "text/plain": [
       "price    0.157561\n",
       "dtype: float64"
      ]
     },
     "execution_count": 19,
     "metadata": {},
     "output_type": "execute_result"
    }
   ],
   "source": [
    "## First, add intercept to OLS: ln(price) ~ b0 + b1*carat + e\n",
    "\n",
    "model = LinearRegression(fit_intercept=True)\n",
    "\n",
    "sse, nobs  = 0.0, 0  # initialize sum squared errors and nobs\n",
    "for tr, tt in kf.split(df):\n",
    "    Xtr = df.iloc[tr][['carat']]\n",
    "    ytr = df.iloc[tr][['price']]\n",
    "    Xtt = df.iloc[tt][['carat']]\n",
    "    ytt = df.iloc[tt][['price']]\n",
    "\n",
    "    model.fit(Xtr, ytr)\n",
    "\n",
    "    sse += ((model.predict(Xtt) - ytt)**2).sum()\n",
    "    nobs += len(tt)\n",
    "\n",
    "mse = sse / nobs\n",
    "mse"
   ]
  },
  {
   "cell_type": "code",
   "execution_count": null,
   "metadata": {},
   "outputs": [],
   "source": [
    "## Random forest regression: ln(price) ~ "
   ]
  }
 ],
 "metadata": {
  "interpreter": {
   "hash": "c88f98d85183201d551d25e949bd598d1adc278b48bf64b985bf54ed90e6305d"
  },
  "kernelspec": {
   "display_name": "Python 3.8.8 64-bit ('base': conda)",
   "name": "python3"
  },
  "language_info": {
   "codemirror_mode": {
    "name": "ipython",
    "version": 3
   },
   "file_extension": ".py",
   "mimetype": "text/x-python",
   "name": "python",
   "nbconvert_exporter": "python",
   "pygments_lexer": "ipython3",
   "version": "3.8.8"
  },
  "orig_nbformat": 4
 },
 "nbformat": 4,
 "nbformat_minor": 2
}
