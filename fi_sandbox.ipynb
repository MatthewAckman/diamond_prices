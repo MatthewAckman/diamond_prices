{
 "cells": [
  {
   "cell_type": "markdown",
   "metadata": {},
   "source": [
    "# Fitted imputation of missing values\n",
    "\n",
    "When working with microdata, particularly at the consumer or firm level, instances of missing values are highly common. This phenomena can be particularly troublesome when trying to construct a balanced panel of entities and require a full-rank feature vector for modelling, since any missing values in any feature will exclude the entity from the panel. This results in unnecessarily decreased sample size.\n",
    "\n"
   ]
  },
  {
   "cell_type": "code",
   "execution_count": 1,
   "metadata": {},
   "outputs": [],
   "source": [
    "import pandas as pd\n",
    "import numpy as np\n",
    "import seaborn as sns  # used for toy datasets\n",
    "\n",
    "from sklearn.preprocessing import PolynomialFeatures\n",
    "from sklearn.model_selection import KFold\n",
    "from sklearn.linear_model import LinearRegression\n",
    "from sklearn.ensemble import RandomForestRegressor\n",
    "from sklearn.pipeline import Pipeline\n",
    "\n",
    "import warnings\n",
    "warnings.filterwarnings(\"ignore\")\n",
    "\n",
    "## load main dataset\n",
    "df = sns.load_dataset('diamonds')\n",
    "df = df[['price','carat','color','cut','clarity']]\n",
    "\n",
    "'''\n",
    "TODO:\n",
    "    - Contaminate y var and fill with linear model from carat alone  --> cross-validate\n",
    "    - ^^ fit intercept --> cross-validate\n",
    "    - random forest regressor --> cross-validate\n",
    "    - compare best model to actual prices\n",
    "'''\n",
    "\n",
    "def contaminate(vector, share=0.1):\n",
    "    \"\"\"\n",
    "    contaminate one vector at a time with X% NaNs\n",
    "    \"\"\"\n",
    "    cont = np.full(len(vector), False)\n",
    "    cont[:int(share * len(vector))] = True\n",
    "    np.random.shuffle(cont)\n",
    "\n",
    "    removed_values = vector.loc[cont] \n",
    "    vector.loc[cont] = np.nan\n",
    "\n",
    "    return vector, removed_values\n",
    "\n",
    "\n",
    "def cross_validate(data, model, exog, endog, kfold=None):\n",
    "    \"\"\"\n",
    "    :param data: Pandas df, contains all data\n",
    "    :param exog: Exog vars\n",
    "    :param endog: Endog var\n",
    "    :param kfold: k-Fold object from sklearn\n",
    "    :param model: model\n",
    "    :return: Mean absolute error (mae) and std of mae\n",
    "    \"\"\"\n",
    "    if not kfold:\n",
    "        kfold = KFold(n_splits=5, shuffle=True, random_state=1996)\n",
    "\n",
    "    errors = []\n",
    "\n",
    "    for tr, tt in kfold.split(data):\n",
    "        xtr, ytr = data.iloc[tr][exog], df.iloc[tr][endog]\n",
    "        xtt, ytt = data.iloc[tt][exog], df.iloc[tt][endog]\n",
    "        model.fit(xtr, ytr)\n",
    "\n",
    "        errors += [abs(model.predict(xtt) - ytt)]\n",
    "\n",
    "    mae = round(float(np.mean(errors)), 2)\n",
    "    std_err = round(float(np.std(errors)), 2)\n",
    "\n",
    "    print(f'{mae = }, {std_err = }')"
   ]
  },
  {
   "cell_type": "code",
   "execution_count": 2,
   "metadata": {},
   "outputs": [
    {
     "ename": "ValueError",
     "evalue": "Unable to coerce to Series, length must be 1: given 0",
     "output_type": "error",
     "traceback": [
      "\u001B[0;31m---------------------------------------------------------------------------\u001B[0m",
      "\u001B[0;31mValueError\u001B[0m                                Traceback (most recent call last)",
      "\u001B[0;32m/var/folders/2_/7hfzk_r138sb5ksjhf5hmf3m0000gn/T/ipykernel_34022/2966130254.py\u001B[0m in \u001B[0;36m<module>\u001B[0;34m\u001B[0m\n\u001B[1;32m      8\u001B[0m ])\n\u001B[1;32m      9\u001B[0m \u001B[0;34m\u001B[0m\u001B[0m\n\u001B[0;32m---> 10\u001B[0;31m \u001B[0mcross_validate\u001B[0m\u001B[0;34m(\u001B[0m\u001B[0mdata\u001B[0m\u001B[0;34m=\u001B[0m\u001B[0mdf\u001B[0m\u001B[0;34m,\u001B[0m \u001B[0mendog\u001B[0m\u001B[0;34m=\u001B[0m\u001B[0my\u001B[0m\u001B[0;34m,\u001B[0m \u001B[0mexog\u001B[0m\u001B[0;34m=\u001B[0m\u001B[0mX\u001B[0m\u001B[0;34m,\u001B[0m \u001B[0mmodel\u001B[0m\u001B[0;34m=\u001B[0m\u001B[0mpipe\u001B[0m\u001B[0;34m)\u001B[0m\u001B[0;34m\u001B[0m\u001B[0;34m\u001B[0m\u001B[0m\n\u001B[0m",
      "\u001B[0;32m/var/folders/2_/7hfzk_r138sb5ksjhf5hmf3m0000gn/T/ipykernel_34022/780862092.py\u001B[0m in \u001B[0;36mcross_validate\u001B[0;34m(data, model, exog, endog, kfold)\u001B[0m\n\u001B[1;32m     57\u001B[0m         \u001B[0mmodel\u001B[0m\u001B[0;34m.\u001B[0m\u001B[0mfit\u001B[0m\u001B[0;34m(\u001B[0m\u001B[0mxtr\u001B[0m\u001B[0;34m,\u001B[0m \u001B[0mytr\u001B[0m\u001B[0;34m)\u001B[0m\u001B[0;34m\u001B[0m\u001B[0;34m\u001B[0m\u001B[0m\n\u001B[1;32m     58\u001B[0m \u001B[0;34m\u001B[0m\u001B[0m\n\u001B[0;32m---> 59\u001B[0;31m         \u001B[0merrors\u001B[0m \u001B[0;34m+=\u001B[0m \u001B[0mabs\u001B[0m\u001B[0;34m(\u001B[0m\u001B[0mmodel\u001B[0m\u001B[0;34m.\u001B[0m\u001B[0mpredict\u001B[0m\u001B[0;34m(\u001B[0m\u001B[0mxtt\u001B[0m\u001B[0;34m)\u001B[0m \u001B[0;34m-\u001B[0m \u001B[0mytt\u001B[0m\u001B[0;34m)\u001B[0m\u001B[0;34m\u001B[0m\u001B[0;34m\u001B[0m\u001B[0m\n\u001B[0m\u001B[1;32m     60\u001B[0m \u001B[0;34m\u001B[0m\u001B[0m\n\u001B[1;32m     61\u001B[0m     \u001B[0mmae\u001B[0m \u001B[0;34m=\u001B[0m \u001B[0mround\u001B[0m\u001B[0;34m(\u001B[0m\u001B[0mfloat\u001B[0m\u001B[0;34m(\u001B[0m\u001B[0mnp\u001B[0m\u001B[0;34m.\u001B[0m\u001B[0mmean\u001B[0m\u001B[0;34m(\u001B[0m\u001B[0merrors\u001B[0m\u001B[0;34m)\u001B[0m\u001B[0;34m)\u001B[0m\u001B[0;34m,\u001B[0m \u001B[0;36m2\u001B[0m\u001B[0;34m)\u001B[0m\u001B[0;34m\u001B[0m\u001B[0;34m\u001B[0m\u001B[0m\n",
      "\u001B[0;32m~/opt/anaconda3/lib/python3.8/site-packages/pandas/core/ops/common.py\u001B[0m in \u001B[0;36mnew_method\u001B[0;34m(self, other)\u001B[0m\n\u001B[1;32m     67\u001B[0m         \u001B[0mother\u001B[0m \u001B[0;34m=\u001B[0m \u001B[0mitem_from_zerodim\u001B[0m\u001B[0;34m(\u001B[0m\u001B[0mother\u001B[0m\u001B[0;34m)\u001B[0m\u001B[0;34m\u001B[0m\u001B[0;34m\u001B[0m\u001B[0m\n\u001B[1;32m     68\u001B[0m \u001B[0;34m\u001B[0m\u001B[0m\n\u001B[0;32m---> 69\u001B[0;31m         \u001B[0;32mreturn\u001B[0m \u001B[0mmethod\u001B[0m\u001B[0;34m(\u001B[0m\u001B[0mself\u001B[0m\u001B[0;34m,\u001B[0m \u001B[0mother\u001B[0m\u001B[0;34m)\u001B[0m\u001B[0;34m\u001B[0m\u001B[0;34m\u001B[0m\u001B[0m\n\u001B[0m\u001B[1;32m     70\u001B[0m \u001B[0;34m\u001B[0m\u001B[0m\n\u001B[1;32m     71\u001B[0m     \u001B[0;32mreturn\u001B[0m \u001B[0mnew_method\u001B[0m\u001B[0;34m\u001B[0m\u001B[0;34m\u001B[0m\u001B[0m\n",
      "\u001B[0;32m~/opt/anaconda3/lib/python3.8/site-packages/pandas/core/arraylike.py\u001B[0m in \u001B[0;36m__radd__\u001B[0;34m(self, other)\u001B[0m\n\u001B[1;32m     94\u001B[0m     \u001B[0;34m@\u001B[0m\u001B[0munpack_zerodim_and_defer\u001B[0m\u001B[0;34m(\u001B[0m\u001B[0;34m\"__radd__\"\u001B[0m\u001B[0;34m)\u001B[0m\u001B[0;34m\u001B[0m\u001B[0;34m\u001B[0m\u001B[0m\n\u001B[1;32m     95\u001B[0m     \u001B[0;32mdef\u001B[0m \u001B[0m__radd__\u001B[0m\u001B[0;34m(\u001B[0m\u001B[0mself\u001B[0m\u001B[0;34m,\u001B[0m \u001B[0mother\u001B[0m\u001B[0;34m)\u001B[0m\u001B[0;34m:\u001B[0m\u001B[0;34m\u001B[0m\u001B[0;34m\u001B[0m\u001B[0m\n\u001B[0;32m---> 96\u001B[0;31m         \u001B[0;32mreturn\u001B[0m \u001B[0mself\u001B[0m\u001B[0;34m.\u001B[0m\u001B[0m_arith_method\u001B[0m\u001B[0;34m(\u001B[0m\u001B[0mother\u001B[0m\u001B[0;34m,\u001B[0m \u001B[0mroperator\u001B[0m\u001B[0;34m.\u001B[0m\u001B[0mradd\u001B[0m\u001B[0;34m)\u001B[0m\u001B[0;34m\u001B[0m\u001B[0;34m\u001B[0m\u001B[0m\n\u001B[0m\u001B[1;32m     97\u001B[0m \u001B[0;34m\u001B[0m\u001B[0m\n\u001B[1;32m     98\u001B[0m     \u001B[0;34m@\u001B[0m\u001B[0munpack_zerodim_and_defer\u001B[0m\u001B[0;34m(\u001B[0m\u001B[0;34m\"__sub__\"\u001B[0m\u001B[0;34m)\u001B[0m\u001B[0;34m\u001B[0m\u001B[0;34m\u001B[0m\u001B[0m\n",
      "\u001B[0;32m~/opt/anaconda3/lib/python3.8/site-packages/pandas/core/frame.py\u001B[0m in \u001B[0;36m_arith_method\u001B[0;34m(self, other, op)\u001B[0m\n\u001B[1;32m   6862\u001B[0m         \u001B[0mother\u001B[0m \u001B[0;34m=\u001B[0m \u001B[0mops\u001B[0m\u001B[0;34m.\u001B[0m\u001B[0mmaybe_prepare_scalar_for_op\u001B[0m\u001B[0;34m(\u001B[0m\u001B[0mother\u001B[0m\u001B[0;34m,\u001B[0m \u001B[0;34m(\u001B[0m\u001B[0mself\u001B[0m\u001B[0;34m.\u001B[0m\u001B[0mshape\u001B[0m\u001B[0;34m[\u001B[0m\u001B[0maxis\u001B[0m\u001B[0;34m]\u001B[0m\u001B[0;34m,\u001B[0m\u001B[0;34m)\u001B[0m\u001B[0;34m)\u001B[0m\u001B[0;34m\u001B[0m\u001B[0;34m\u001B[0m\u001B[0m\n\u001B[1;32m   6863\u001B[0m \u001B[0;34m\u001B[0m\u001B[0m\n\u001B[0;32m-> 6864\u001B[0;31m         \u001B[0mself\u001B[0m\u001B[0;34m,\u001B[0m \u001B[0mother\u001B[0m \u001B[0;34m=\u001B[0m \u001B[0mops\u001B[0m\u001B[0;34m.\u001B[0m\u001B[0malign_method_FRAME\u001B[0m\u001B[0;34m(\u001B[0m\u001B[0mself\u001B[0m\u001B[0;34m,\u001B[0m \u001B[0mother\u001B[0m\u001B[0;34m,\u001B[0m \u001B[0maxis\u001B[0m\u001B[0;34m,\u001B[0m \u001B[0mflex\u001B[0m\u001B[0;34m=\u001B[0m\u001B[0;32mTrue\u001B[0m\u001B[0;34m,\u001B[0m \u001B[0mlevel\u001B[0m\u001B[0;34m=\u001B[0m\u001B[0;32mNone\u001B[0m\u001B[0;34m)\u001B[0m\u001B[0;34m\u001B[0m\u001B[0;34m\u001B[0m\u001B[0m\n\u001B[0m\u001B[1;32m   6865\u001B[0m \u001B[0;34m\u001B[0m\u001B[0m\n\u001B[1;32m   6866\u001B[0m         \u001B[0mnew_data\u001B[0m \u001B[0;34m=\u001B[0m \u001B[0mself\u001B[0m\u001B[0;34m.\u001B[0m\u001B[0m_dispatch_frame_op\u001B[0m\u001B[0;34m(\u001B[0m\u001B[0mother\u001B[0m\u001B[0;34m,\u001B[0m \u001B[0mop\u001B[0m\u001B[0;34m,\u001B[0m \u001B[0maxis\u001B[0m\u001B[0;34m=\u001B[0m\u001B[0maxis\u001B[0m\u001B[0;34m)\u001B[0m\u001B[0;34m\u001B[0m\u001B[0;34m\u001B[0m\u001B[0m\n",
      "\u001B[0;32m~/opt/anaconda3/lib/python3.8/site-packages/pandas/core/ops/__init__.py\u001B[0m in \u001B[0;36malign_method_FRAME\u001B[0;34m(left, right, axis, flex, level)\u001B[0m\n\u001B[1;32m    279\u001B[0m             )\n\u001B[1;32m    280\u001B[0m         \u001B[0;31m# GH17901\u001B[0m\u001B[0;34m\u001B[0m\u001B[0;34m\u001B[0m\u001B[0;34m\u001B[0m\u001B[0m\n\u001B[0;32m--> 281\u001B[0;31m         \u001B[0mright\u001B[0m \u001B[0;34m=\u001B[0m \u001B[0mto_series\u001B[0m\u001B[0;34m(\u001B[0m\u001B[0mright\u001B[0m\u001B[0;34m)\u001B[0m\u001B[0;34m\u001B[0m\u001B[0;34m\u001B[0m\u001B[0m\n\u001B[0m\u001B[1;32m    282\u001B[0m \u001B[0;34m\u001B[0m\u001B[0m\n\u001B[1;32m    283\u001B[0m     \u001B[0;32mif\u001B[0m \u001B[0mflex\u001B[0m \u001B[0;32mis\u001B[0m \u001B[0;32mnot\u001B[0m \u001B[0;32mNone\u001B[0m \u001B[0;32mand\u001B[0m \u001B[0misinstance\u001B[0m\u001B[0;34m(\u001B[0m\u001B[0mright\u001B[0m\u001B[0;34m,\u001B[0m \u001B[0mABCDataFrame\u001B[0m\u001B[0;34m)\u001B[0m\u001B[0;34m:\u001B[0m\u001B[0;34m\u001B[0m\u001B[0;34m\u001B[0m\u001B[0m\n",
      "\u001B[0;32m~/opt/anaconda3/lib/python3.8/site-packages/pandas/core/ops/__init__.py\u001B[0m in \u001B[0;36mto_series\u001B[0;34m(right)\u001B[0m\n\u001B[1;32m    236\u001B[0m         \u001B[0;32melse\u001B[0m\u001B[0;34m:\u001B[0m\u001B[0;34m\u001B[0m\u001B[0;34m\u001B[0m\u001B[0m\n\u001B[1;32m    237\u001B[0m             \u001B[0;32mif\u001B[0m \u001B[0mlen\u001B[0m\u001B[0;34m(\u001B[0m\u001B[0mleft\u001B[0m\u001B[0;34m.\u001B[0m\u001B[0mcolumns\u001B[0m\u001B[0;34m)\u001B[0m \u001B[0;34m!=\u001B[0m \u001B[0mlen\u001B[0m\u001B[0;34m(\u001B[0m\u001B[0mright\u001B[0m\u001B[0;34m)\u001B[0m\u001B[0;34m:\u001B[0m\u001B[0;34m\u001B[0m\u001B[0;34m\u001B[0m\u001B[0m\n\u001B[0;32m--> 238\u001B[0;31m                 raise ValueError(\n\u001B[0m\u001B[1;32m    239\u001B[0m                     \u001B[0mmsg\u001B[0m\u001B[0;34m.\u001B[0m\u001B[0mformat\u001B[0m\u001B[0;34m(\u001B[0m\u001B[0mreq_len\u001B[0m\u001B[0;34m=\u001B[0m\u001B[0mlen\u001B[0m\u001B[0;34m(\u001B[0m\u001B[0mleft\u001B[0m\u001B[0;34m.\u001B[0m\u001B[0mcolumns\u001B[0m\u001B[0;34m)\u001B[0m\u001B[0;34m,\u001B[0m \u001B[0mgiven_len\u001B[0m\u001B[0;34m=\u001B[0m\u001B[0mlen\u001B[0m\u001B[0;34m(\u001B[0m\u001B[0mright\u001B[0m\u001B[0;34m)\u001B[0m\u001B[0;34m)\u001B[0m\u001B[0;34m\u001B[0m\u001B[0;34m\u001B[0m\u001B[0m\n\u001B[1;32m    240\u001B[0m                 )\n",
      "\u001B[0;31mValueError\u001B[0m: Unable to coerce to Series, length must be 1: given 0"
     ]
    }
   ],
   "source": [
    "## Basic regression: ln(price) ~ b1*carat + e\n",
    "\n",
    "y = ['price']\n",
    "X = ['carat']\n",
    "\n",
    "pipe = Pipeline([\n",
    "    ('ols', LinearRegression(fit_intercept=True))\n",
    "])\n",
    "\n",
    "cross_validate(data=df, endog=y, exog=X, model=pipe)"
   ]
  },
  {
   "cell_type": "code",
   "execution_count": null,
   "metadata": {},
   "outputs": [],
   "source": [
    "## Allow prices to be quadratic in carat: ln(price) ~ b0 + b1*carat * b2*carat^2 + e\n",
    "\n",
    "y = ['price']\n",
    "X = ['carat']\n",
    "\n",
    "pipe = Pipeline([\n",
    "    ('pol', PolynomialFeatures(2)),\n",
    "    ('ols', LinearRegression(fit_intercept=True))\n",
    "])\n",
    "\n",
    "cross_validate(data=df, endog=y, exog=X, model=pipe)"
   ]
  },
  {
   "cell_type": "code",
   "execution_count": 12,
   "metadata": {},
   "outputs": [
    {
     "name": "stdout",
     "output_type": "stream",
     "text": [
      "mae = 486.39, std_err = 604.95\n"
     ]
    }
   ],
   "source": [
    "# Regression with dummies for categories: price ~ b0 + b1*carat + b2*carat^2 + b3*VVS1 + ... + e\n",
    "\n",
    "df_dummies = df.drop(['cut','color','clarity'], axis='columns')\\\n",
    "    .join(pd.get_dummies(df.cut, drop_first=True))\\\n",
    "    .join(pd.get_dummies(df.color, drop_first=True))\\\n",
    "    .join(pd.get_dummies(df.clarity, drop_first=True))\n",
    "\n",
    "y = ['price']\n",
    "X = [col for col in df_dummies.columns if col != 'price']\n",
    "\n",
    "pipe = Pipeline([\n",
    "    ('pol', PolynomialFeatures(2)),\n",
    "    ('ols', LinearRegression(fit_intercept=True))\n",
    "])\n",
    "\n",
    "cross_validate(data=df_dummies, endog=y, exog=X, model=pipe)"
   ]
  },
  {
   "cell_type": "code",
   "execution_count": 6,
   "outputs": [],
   "source": [
    "# Random forest reg\n",
    "\n",
    "# df_rf = df.copy()\n",
    "#\n",
    "# for col in ['cut', 'clarity', 'color']:\n",
    "#     df_rf[col] = df_rf[col].cat.codes\n",
    "#\n",
    "# y = ['price']\n",
    "# X = [col for col in df_dummies.columns if col != 'price']\n",
    "#\n",
    "# pipe = Pipeline([\n",
    "#     ('pol', PolynomialFeatures(2)),\n",
    "#     ('rfr', RandomForestRegressor(n_estimators = 10, max_depth = 10))\n",
    "# ])\n",
    "#\n",
    "# cross_validate(data=df_dummies, endog=y, exog=X, model=pipe)"
   ],
   "metadata": {
    "collapsed": false,
    "pycharm": {
     "name": "#%%\n"
    }
   }
  },
  {
   "cell_type": "code",
   "execution_count": 14,
   "outputs": [
    {
     "ename": "AttributeError",
     "evalue": "module 'sys' has no attribute 'which'",
     "output_type": "error",
     "traceback": [
      "\u001B[0;31m---------------------------------------------------------------------------\u001B[0m",
      "\u001B[0;31mAttributeError\u001B[0m                            Traceback (most recent call last)",
      "\u001B[0;32m/var/folders/2_/7hfzk_r138sb5ksjhf5hmf3m0000gn/T/ipykernel_21922/487357196.py\u001B[0m in \u001B[0;36m<module>\u001B[0;34m\u001B[0m\n\u001B[1;32m      1\u001B[0m \u001B[0;32mimport\u001B[0m \u001B[0msys\u001B[0m\u001B[0;34m\u001B[0m\u001B[0;34m\u001B[0m\u001B[0m\n\u001B[1;32m      2\u001B[0m \u001B[0;34m\u001B[0m\u001B[0m\n\u001B[0;32m----> 3\u001B[0;31m \u001B[0msys\u001B[0m\u001B[0;34m.\u001B[0m\u001B[0mwhich\u001B[0m\u001B[0;34m(\u001B[0m\u001B[0;34m'R'\u001B[0m\u001B[0;34m)\u001B[0m\u001B[0;34m\u001B[0m\u001B[0;34m\u001B[0m\u001B[0m\n\u001B[0m",
      "\u001B[0;31mAttributeError\u001B[0m: module 'sys' has no attribute 'which'"
     ]
    }
   ],
   "source": [],
   "metadata": {
    "collapsed": false,
    "pycharm": {
     "name": "#%%\n"
    }
   }
  },
  {
   "cell_type": "code",
   "execution_count": null,
   "outputs": [],
   "source": [],
   "metadata": {
    "collapsed": false,
    "pycharm": {
     "name": "#%%\n"
    }
   }
  }
 ],
 "metadata": {
  "interpreter": {
   "hash": "c88f98d85183201d551d25e949bd598d1adc278b48bf64b985bf54ed90e6305d"
  },
  "kernelspec": {
   "display_name": "Python 3.8.8 64-bit ('base': conda)",
   "name": "python3"
  },
  "language_info": {
   "codemirror_mode": {
    "name": "ipython",
    "version": 3
   },
   "file_extension": ".py",
   "mimetype": "text/x-python",
   "name": "python",
   "nbconvert_exporter": "python",
   "pygments_lexer": "ipython3",
   "version": "3.8.8"
  },
  "orig_nbformat": 4
 },
 "nbformat": 4,
 "nbformat_minor": 2
}