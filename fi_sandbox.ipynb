{
 "cells": [
  {
   "cell_type": "markdown",
   "metadata": {},
   "source": [
    "# Fitted interpolation\n",
    "\n",
    "When working with microdata, particularly at the consumer or firm level, instances of missing values are highly common. In some cases an entity will neglect to report values where it makes sense to do so, such as an interest expense line item on an income statement of a company with no debt, however very often it is the case that data which should exist is simply missing. \n",
    "\n",
    "This phenomena can be particularly troublesome when trying to construct a balanced panel of entities and require a full-rank feature vector for modelling, since any missing values in any feature will exclude the entity from the panel. This results in unnecessarily curtailed sample size.\n",
    "\n",
    "Forward-filling missing values at the entity level is one option for dealing with this issue, however a more broadly applicable alternative is to estimate every missing value using the non-missing features from the same panel and fill the holes with estimated values. This utility of this method over forward-filling is subject to how well the model fits, and which model is used."
   ]
  },
  {
   "cell_type": "code",
   "execution_count": 1,
   "metadata": {},
   "outputs": [],
   "source": [
    "import pandas as pd\n",
    "import numpy as np\n",
    "import seaborn as sns  # used for toy datasets\n",
    "\n",
    "## load main dataset\n",
    "df = sns.load_dataset('diamonds')\n",
    "df.price = df.price.apply(np.log)\n",
    "\n",
    "'''\n",
    "TODO:\n",
    "    - Contaminate y var and fill with linear model from carat alone  --> cross-validate\n",
    "    - ^^ fit intercept --> cross-validate\n",
    "    - random forest regressor --> cross-validate\n",
    "    - compare best model to actual prices\n",
    "'''\n",
    "\n",
    "def contaminate(vector, share=0.1):\n",
    "    '''contaminate one vector at a time with X% NaNs'''\n",
    "    cont = np.full(len(vector), False)\n",
    "    cont[:int(share * len(vector))] = True\n",
    "    np.random.shuffle(cont)\n",
    "\n",
    "    removed_values = vector.loc[cont] \n",
    "    vector.loc[cont] = np.nan\n",
    "\n",
    "    return vector, removed_values"
   ]
  },
  {
   "cell_type": "code",
   "execution_count": 8,
   "metadata": {},
   "outputs": [
    {
     "data": {
      "text/plain": [
       "price    10.233595\n",
       "dtype: float64"
      ]
     },
     "execution_count": 8,
     "metadata": {},
     "output_type": "execute_result"
    }
   ],
   "source": [
    "## Basic regression: ln(price) ~ b1*carat + e\n",
    "\n",
    "from sklearn.linear_model import LinearRegression\n",
    "from sklearn.model_selection import KFold, train_test_split\n",
    "\n",
    "y = df.price\n",
    "X = df.carat\n",
    "\n",
    "model = LinearRegression(fit_intercept=False)\n",
    "kf = KFold(n_splits=5, shuffle=True, random_state=1996)\n",
    "\n",
    "## score model via cross-validation  (tr = train, tt = test)\n",
    "\n",
    "sse, nobs  = 0.0, 0  # initialize sum squared errors and nobs\n",
    "\n",
    "for tr, tt in kf.split(df):\n",
    "    Xtr = df.iloc[tr][['carat']]\n",
    "    ytr = df.iloc[tr][['price']]\n",
    "    Xtt = df.iloc[tt][['carat']]\n",
    "    ytt = df.iloc[tt][['price']]\n",
    "\n",
    "    model.fit(Xtr, ytr)\n",
    "\n",
    "    sse += ((model.predict(Xtt) - ytt)**2).sum()\n",
    "    nobs += len(tt)\n",
    "\n",
    "mse = sse / nobs\n",
    "mse"
   ]
  },
  {
   "cell_type": "code",
   "execution_count": 9,
   "metadata": {},
   "outputs": [
    {
     "data": {
      "text/plain": [
       "price    0.157746\n",
       "dtype: float64"
      ]
     },
     "execution_count": 9,
     "metadata": {},
     "output_type": "execute_result"
    }
   ],
   "source": [
    "## First, add intercept to OLS: ln(price) ~ b0 + b1*carat + e\n",
    "\n",
    "model = LinearRegression(fit_intercept=True)\n",
    "\n",
    "sse, nobs  = 0.0, 0  # initialize sum squared errors and nobs\n",
    "for tr, tt in kf.split(df):\n",
    "    Xtr = df.iloc[tr][['carat']]\n",
    "    ytr = df.iloc[tr][['price']]\n",
    "    Xtt = df.iloc[tt][['carat']]\n",
    "    ytt = df.iloc[tt][['price']]\n",
    "\n",
    "    model.fit(Xtr, ytr)\n",
    "\n",
    "    sse += ((model.predict(Xtt) - ytt)**2).sum()\n",
    "    nobs += len(tt)\n",
    "\n",
    "mse = sse / nobs\n",
    "mse"
   ]
  },
  {
   "cell_type": "code",
   "execution_count": null,
   "metadata": {},
   "outputs": [],
   "source": [
    "## Random forest regression: ln(price) ~ "
   ]
  }
 ],
 "metadata": {
  "interpreter": {
   "hash": "c88f98d85183201d551d25e949bd598d1adc278b48bf64b985bf54ed90e6305d"
  },
  "kernelspec": {
   "display_name": "Python 3.8.8 64-bit ('base': conda)",
   "name": "python3"
  },
  "language_info": {
   "codemirror_mode": {
    "name": "ipython",
    "version": 3
   },
   "file_extension": ".py",
   "mimetype": "text/x-python",
   "name": "python",
   "nbconvert_exporter": "python",
   "pygments_lexer": "ipython3",
   "version": "3.8.8"
  },
  "orig_nbformat": 4
 },
 "nbformat": 4,
 "nbformat_minor": 2
}
