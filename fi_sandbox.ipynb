{
 "cells": [
  {
   "cell_type": "markdown",
   "metadata": {},
   "source": [
    "# Fitted imputation of missing values\n",
    "\n",
    "When working with microdata, particularly at the consumer or firm level, instances of missing values are highly common. This phenomena can be particularly troublesome when trying to construct a balanced panel of entities and require a full-rank feature vector for modelling, since any missing values in any feature will exclude the entity from the panel. This results in unnecessarily decreased sample size.\n",
    "\n"
   ]
  },
  {
   "cell_type": "code",
   "execution_count": 2,
   "metadata": {},
   "outputs": [
    {
     "name": "stderr",
     "output_type": "stream",
     "text": [
      "/Users/matthewackman/opt/anaconda3/lib/python3.8/site-packages/pandas/core/indexing.py:1732: SettingWithCopyWarning: \n",
      "A value is trying to be set on a copy of a slice from a DataFrame\n",
      "\n",
      "See the caveats in the documentation: https://pandas.pydata.org/pandas-docs/stable/user_guide/indexing.html#returning-a-view-versus-a-copy\n",
      "  self._setitem_single_block(indexer, value, name)\n"
     ]
    }
   ],
   "source": [
    "import pandas as pd\n",
    "import numpy as np\n",
    "import seaborn as sns  # used for toy datasets\n",
    "\n",
    "from sklearn.linear_model import LinearRegression\n",
    "from sklearn.model_selection import KFold\n",
    "from sklearn.pipeline import Pipeline\n",
    "from sklearn.preprocessing import PolynomialFeatures\n",
    "\n",
    "## load main dataset\n",
    "df = sns.load_dataset('diamonds')\n",
    "\n",
    "'''\n",
    "TODO:\n",
    "    - Contaminate y var and fill with linear model from carat alone  --> cross-validate\n",
    "    - ^^ fit intercept --> cross-validate\n",
    "    - random forest regressor --> cross-validate\n",
    "    - compare best model to actual prices\n",
    "'''\n",
    "\n",
    "def contaminate(vector, share=0.1):\n",
    "    '''contaminate one vector at a time with X% NaNs'''\n",
    "    cont = np.full(len(vector), False)\n",
    "    cont[:int(share * len(vector))] = True\n",
    "    np.random.shuffle(cont)\n",
    "\n",
    "    removed_values = vector.loc[cont] \n",
    "    vector.loc[cont] = np.nan\n",
    "\n",
    "    return vector, removed_values\n",
    "\n",
    "\n",
    "df.price, removed_prices = contaminate(df.price)  # contaminate endog var, simulate poor data quality\n",
    "\n",
    "df_orig = df  # copy contaminated df for validation later\n",
    "\n",
    "df = df.loc[~df.price.isna()]  # subset data to valid obs"
   ]
  },
  {
   "cell_type": "code",
   "execution_count": 3,
   "metadata": {},
   "outputs": [
    {
     "data": {
      "text/plain": "1551.085480715225"
     },
     "execution_count": 3,
     "metadata": {},
     "output_type": "execute_result"
    }
   ],
   "source": [
    "## Basic regression: ln(price) ~ b1*carat + e\n",
    "\n",
    "y = df.price\n",
    "X = df.carat\n",
    "\n",
    "model = Pipeline([('pol', PolynomialFeatures(1)),\n",
    "                  ('ols', LinearRegression(fit_intercept=True))])\n",
    "\n",
    "kf = KFold(n_splits=5, shuffle=True, random_state=1996)\n",
    "\n",
    "## score model via cross-validation  (tr = train, tt = test)\n",
    "\n",
    "sse, nobs  = 0.0, 0  # initialize sum squared errors and nobs\n",
    "\n",
    "for tr, tt in kf.split(df):\n",
    "    Xtr = df.iloc[tr][['carat']]\n",
    "    ytr = df.iloc[tr][['price']]\n",
    "    Xtt = df.iloc[tt][['carat']]\n",
    "    ytt = df.iloc[tt][['price']]\n",
    "\n",
    "    model.fit(Xtr, ytr)\n",
    "\n",
    "    sse += ((model.predict(Xtt) - ytt)**2).sum()\n",
    "    nobs += len(tt)\n",
    "\n",
    "mse = sse / nobs\n",
    "mae = np.sqrt(mse)\n",
    "mae[0]"
   ]
  },
  {
   "cell_type": "code",
   "execution_count": 4,
   "metadata": {},
   "outputs": [
    {
     "data": {
      "text/plain": "1543.8955520236411"
     },
     "execution_count": 4,
     "metadata": {},
     "output_type": "execute_result"
    }
   ],
   "source": [
    "## Improve by adding intercept: ln(price) ~ b0 + b1*carat + e\n",
    "\n",
    "model = Pipeline([('pol', PolynomialFeatures(2)),\n",
    "                  ('ols', LinearRegression(fit_intercept=True))])\n",
    "\n",
    "sse, nobs  = 0.0, 0  # initialize sum squared errors and nobs\n",
    "\n",
    "for tr, tt in kf.split(df):\n",
    "    Xtr = df.iloc[tr][['carat']]\n",
    "    ytr = df.iloc[tr][['price']]\n",
    "    Xtt = df.iloc[tt][['carat']]\n",
    "    ytt = df.iloc[tt][['price']]\n",
    "\n",
    "    model.fit(Xtr, ytr)\n",
    "\n",
    "    sse += ((model.predict(Xtt) - ytt)**2).sum()\n",
    "    nobs += len(tt)\n",
    "\n",
    "mse = sse / nobs\n",
    "mae = np.sqrt(mse)\n",
    "mae[0]\n",
    "\n"
   ]
  },
  {
   "cell_type": "code",
   "execution_count": 6,
   "metadata": {},
   "outputs": [
    {
     "data": {
      "text/plain": "       carat        cut color clarity  depth  table   price     x     y     z\n0       0.23      Ideal     E     SI2   61.5   55.0   326.0  3.95  3.98  2.43\n1       0.21    Premium     E     SI1   59.8   61.0   326.0  3.89  3.84  2.31\n2       0.23       Good     E     VS1   56.9   65.0   327.0  4.05  4.07  2.31\n3       0.29    Premium     I     VS2   62.4   58.0   334.0  4.20  4.23  2.63\n4       0.31       Good     J     SI2   63.3   58.0   335.0  4.34  4.35  2.75\n...      ...        ...   ...     ...    ...    ...     ...   ...   ...   ...\n53935   0.72      Ideal     D     SI1   60.8   57.0  2757.0  5.75  5.76  3.50\n53936   0.72       Good     D     SI1   63.1   55.0  2757.0  5.69  5.75  3.61\n53937   0.70  Very Good     D     SI1   62.8   60.0  2757.0  5.66  5.68  3.56\n53938   0.86    Premium     H     SI2   61.0   58.0  2757.0  6.15  6.12  3.74\n53939   0.75      Ideal     D     SI2   62.2   55.0  2757.0  5.83  5.87  3.64\n\n[48546 rows x 10 columns]",
      "text/html": "<div>\n<style scoped>\n    .dataframe tbody tr th:only-of-type {\n        vertical-align: middle;\n    }\n\n    .dataframe tbody tr th {\n        vertical-align: top;\n    }\n\n    .dataframe thead th {\n        text-align: right;\n    }\n</style>\n<table border=\"1\" class=\"dataframe\">\n  <thead>\n    <tr style=\"text-align: right;\">\n      <th></th>\n      <th>carat</th>\n      <th>cut</th>\n      <th>color</th>\n      <th>clarity</th>\n      <th>depth</th>\n      <th>table</th>\n      <th>price</th>\n      <th>x</th>\n      <th>y</th>\n      <th>z</th>\n    </tr>\n  </thead>\n  <tbody>\n    <tr>\n      <th>0</th>\n      <td>0.23</td>\n      <td>Ideal</td>\n      <td>E</td>\n      <td>SI2</td>\n      <td>61.5</td>\n      <td>55.0</td>\n      <td>326.0</td>\n      <td>3.95</td>\n      <td>3.98</td>\n      <td>2.43</td>\n    </tr>\n    <tr>\n      <th>1</th>\n      <td>0.21</td>\n      <td>Premium</td>\n      <td>E</td>\n      <td>SI1</td>\n      <td>59.8</td>\n      <td>61.0</td>\n      <td>326.0</td>\n      <td>3.89</td>\n      <td>3.84</td>\n      <td>2.31</td>\n    </tr>\n    <tr>\n      <th>2</th>\n      <td>0.23</td>\n      <td>Good</td>\n      <td>E</td>\n      <td>VS1</td>\n      <td>56.9</td>\n      <td>65.0</td>\n      <td>327.0</td>\n      <td>4.05</td>\n      <td>4.07</td>\n      <td>2.31</td>\n    </tr>\n    <tr>\n      <th>3</th>\n      <td>0.29</td>\n      <td>Premium</td>\n      <td>I</td>\n      <td>VS2</td>\n      <td>62.4</td>\n      <td>58.0</td>\n      <td>334.0</td>\n      <td>4.20</td>\n      <td>4.23</td>\n      <td>2.63</td>\n    </tr>\n    <tr>\n      <th>4</th>\n      <td>0.31</td>\n      <td>Good</td>\n      <td>J</td>\n      <td>SI2</td>\n      <td>63.3</td>\n      <td>58.0</td>\n      <td>335.0</td>\n      <td>4.34</td>\n      <td>4.35</td>\n      <td>2.75</td>\n    </tr>\n    <tr>\n      <th>...</th>\n      <td>...</td>\n      <td>...</td>\n      <td>...</td>\n      <td>...</td>\n      <td>...</td>\n      <td>...</td>\n      <td>...</td>\n      <td>...</td>\n      <td>...</td>\n      <td>...</td>\n    </tr>\n    <tr>\n      <th>53935</th>\n      <td>0.72</td>\n      <td>Ideal</td>\n      <td>D</td>\n      <td>SI1</td>\n      <td>60.8</td>\n      <td>57.0</td>\n      <td>2757.0</td>\n      <td>5.75</td>\n      <td>5.76</td>\n      <td>3.50</td>\n    </tr>\n    <tr>\n      <th>53936</th>\n      <td>0.72</td>\n      <td>Good</td>\n      <td>D</td>\n      <td>SI1</td>\n      <td>63.1</td>\n      <td>55.0</td>\n      <td>2757.0</td>\n      <td>5.69</td>\n      <td>5.75</td>\n      <td>3.61</td>\n    </tr>\n    <tr>\n      <th>53937</th>\n      <td>0.70</td>\n      <td>Very Good</td>\n      <td>D</td>\n      <td>SI1</td>\n      <td>62.8</td>\n      <td>60.0</td>\n      <td>2757.0</td>\n      <td>5.66</td>\n      <td>5.68</td>\n      <td>3.56</td>\n    </tr>\n    <tr>\n      <th>53938</th>\n      <td>0.86</td>\n      <td>Premium</td>\n      <td>H</td>\n      <td>SI2</td>\n      <td>61.0</td>\n      <td>58.0</td>\n      <td>2757.0</td>\n      <td>6.15</td>\n      <td>6.12</td>\n      <td>3.74</td>\n    </tr>\n    <tr>\n      <th>53939</th>\n      <td>0.75</td>\n      <td>Ideal</td>\n      <td>D</td>\n      <td>SI2</td>\n      <td>62.2</td>\n      <td>55.0</td>\n      <td>2757.0</td>\n      <td>5.83</td>\n      <td>5.87</td>\n      <td>3.64</td>\n    </tr>\n  </tbody>\n</table>\n<p>48546 rows × 10 columns</p>\n</div>"
     },
     "execution_count": 6,
     "metadata": {},
     "output_type": "execute_result"
    }
   ],
   "source": [
    "## Random forest regression: ln(price) ~ \n",
    "\n",
    "df"
   ]
  },
  {
   "cell_type": "code",
   "execution_count": null,
   "metadata": {},
   "outputs": [],
   "source": []
  },
  {
   "cell_type": "code",
   "execution_count": null,
   "metadata": {},
   "outputs": [],
   "source": []
  }
 ],
 "metadata": {
  "interpreter": {
   "hash": "c88f98d85183201d551d25e949bd598d1adc278b48bf64b985bf54ed90e6305d"
  },
  "kernelspec": {
   "display_name": "Python 3.8.8 64-bit ('base': conda)",
   "name": "python3"
  },
  "language_info": {
   "codemirror_mode": {
    "name": "ipython",
    "version": 3
   },
   "file_extension": ".py",
   "mimetype": "text/x-python",
   "name": "python",
   "nbconvert_exporter": "python",
   "pygments_lexer": "ipython3",
   "version": "3.8.8"
  },
  "orig_nbformat": 4
 },
 "nbformat": 4,
 "nbformat_minor": 2
}